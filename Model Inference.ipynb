{
 "cells": [
  {
   "cell_type": "code",
   "execution_count": 1,
   "id": "e1467dc6",
   "metadata": {},
   "outputs": [],
   "source": [
    "import cv2\n",
    "from ultralytics import YOLO\n",
    "\n",
    "# Load models\n",
    "ppe_model = YOLO(\"E:/Ziad/University/GP/Vision/best (2).pt\")  \n"
   ]
  },
  {
   "cell_type": "code",
   "execution_count": 2,
   "id": "0846a3f4",
   "metadata": {},
   "outputs": [
    {
     "name": "stdout",
     "output_type": "stream",
     "text": [
      "Press 'q' to quit.\n"
     ]
    }
   ],
   "source": [
    "# Define required PPE\n",
    "required_ppe = [\"helmet\", \"vest\"]\n",
    "\n",
    "# Start webcam\n",
    "cap = cv2.VideoCapture(0)\n",
    "if not cap.isOpened():\n",
    "    print(\"Webcam error.\")\n",
    "    exit()\n",
    "\n",
    "print(\"Press 'q' to quit.\")\n",
    "\n",
    "while True:\n",
    "    ret, frame = cap.read()\n",
    "    if not ret:\n",
    "        break\n",
    "\n",
    "    ppe_results = ppe_model.predict(source=frame, save=False, verbose=False)\n",
    "    ppe_result = ppe_results[0]\n",
    "\n",
    "    # Check if 'person' is detected\n",
    "    person_detected = any(\n",
    "        ppe_model.names[int(cls)] == \"Person\" for cls in ppe_result.boxes.cls\n",
    "    )\n",
    "\n",
    "    # Step 2: If a person is detected, run PPE detection\n",
    "    if person_detected:\n",
    "        detected_ppe = [\n",
    "            ppe_model.names[int(cls_id.item() if hasattr(cls_id, \"item\") else cls_id)].lower()\n",
    "            for cls_id in ppe_result.boxes.cls\n",
    "        ]\n",
    "\n",
    "        # Check for missing PPE\n",
    "        missing = [item for item in required_ppe if item not in detected_ppe]\n",
    "\n",
    "        # Draw PPE alert\n",
    "        status = \"All PPE present\" if not missing else f\"Missing: {', '.join(missing)}\"\n",
    "        color = (0, 255, 0) if not missing else (0, 0, 255)\n",
    "        cv2.putText(frame, status, (10, 30), cv2.FONT_HERSHEY_SIMPLEX, 1, color, 2)\n",
    "\n",
    "        # Overlay PPE detections (boxes)\n",
    "        frame = ppe_result.plot()\n",
    "\n",
    "    else:\n",
    "        cv2.putText(frame, \"No person detected\", (10, 30), cv2.FONT_HERSHEY_SIMPLEX, 1, (255, 0, 0), 2)\n",
    "\n",
    "    # Show the result\n",
    "    cv2.imshow(\"PPE Monitor\", frame)\n",
    "\n",
    "    if cv2.waitKey(1) & 0xFF == ord('q'):\n",
    "        break\n",
    "\n",
    "cap.release()\n",
    "cv2.destroyAllWindows()\n"
   ]
  }
 ],
 "metadata": {
  "kernelspec": {
   "display_name": "base",
   "language": "python",
   "name": "python3"
  },
  "language_info": {
   "codemirror_mode": {
    "name": "ipython",
    "version": 3
   },
   "file_extension": ".py",
   "mimetype": "text/x-python",
   "name": "python",
   "nbconvert_exporter": "python",
   "pygments_lexer": "ipython3",
   "version": "3.12.7"
  }
 },
 "nbformat": 4,
 "nbformat_minor": 5
}
